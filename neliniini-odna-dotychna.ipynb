{
 "cells": [
  {
   "cell_type": "code",
   "execution_count": 84,
   "metadata": {},
   "outputs": [
    {
     "name": "stdout",
     "output_type": "stream",
     "text": [
      "корінь = -1.4491\n",
      "a2 == -2\n",
      "b2 == -1\n",
      "корінь = -0.5006\n",
      "a2 == -1\n",
      "b2 == 0\n",
      "a2 == 0\n",
      "b2 == 1\n",
      "a2 == 1\n",
      "b2 == 2\n",
      "a2 == 2\n",
      "b2 == 3\n",
      "корінь = 3.4496\n",
      "a2 == 3\n",
      "b2 == 4\n"
     ]
    }
   ],
   "source": [
    "\n",
    "e = 0.0001 \n",
    " \n",
    "a0 = -2 \n",
    "b0 = 4 \n",
    "a = a0\n",
    "b = a0 + 1\n",
    "a_ = a\n",
    "b_ = b\n",
    "\n",
    "k = 0 \n",
    "korin_pr = a_ \n",
    "korin_pr_copy = korin_pr\n",
    "\n",
    "def fx(x):  \n",
    "    res = 2 * x**3 - 3 * x**2 - 12 * x - 5 \n",
    "    return res \n",
    " \n",
    "def rozr(): \n",
    "    korin_pr = round(a_ - (fx(a_)) * ((b_ - a_)/(fx(b_) - fx(a_))), 4)\n",
    "    global korin_pr_copy\n",
    "    korin_pr_copy = korin_pr\n",
    "    return korin_pr\n",
    "\n",
    "while b <= b0:\n",
    "    if fx(a_) * fx(b_) < 0: \n",
    "        rozr()\n",
    "\n",
    "        while abs(2 * korin_pr**3 - 3 * korin_pr**2 - 12 * korin_pr - 5) > e and k < 200: \n",
    "            if round(fx(korin_pr_copy), 2) == 0:\n",
    "                print(f'корінь = {korin_pr_copy}')\n",
    "                break\n",
    "\n",
    "            rozr() \n",
    "            k += 1\n",
    "            b_ = korin_pr_copy\n",
    "\n",
    "    k = 0\n",
    "    a += 1\n",
    "    b += 1 \n",
    "    a_ = a\n",
    "    b_ = b\n",
    "           "
   ]
  }
 ],
 "metadata": {
  "kernelspec": {
   "display_name": "Python 3.10.7 64-bit",
   "language": "python",
   "name": "python3"
  },
  "language_info": {
   "codemirror_mode": {
    "name": "ipython",
    "version": 3
   },
   "file_extension": ".py",
   "mimetype": "text/x-python",
   "name": "python",
   "nbconvert_exporter": "python",
   "pygments_lexer": "ipython3",
   "version": "3.10.7"
  },
  "orig_nbformat": 4,
  "vscode": {
   "interpreter": {
    "hash": "664ecf36781fcceb43a5e96151f7bb93442829824314f9dae0f131bdf2b90c2f"
   }
  }
 },
 "nbformat": 4,
 "nbformat_minor": 2
}
