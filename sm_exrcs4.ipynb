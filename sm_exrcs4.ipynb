{
 "cells": [
  {
   "cell_type": "code",
   "execution_count": null,
   "metadata": {},
   "outputs": [],
   "source": [
    "#7\n",
    "import random as ra\n",
    "n = int(input('Введіть кількість элементів масиву:\\n'))\n",
    "arr = []\n",
    "k, sum, l = 0, 0, 0\n",
    "\n",
    "#наповнюємо масив числами\n",
    "\n",
    "for i in range(0, n):\n",
    "    arr.append(ra.randint(-10, 10))\n",
    "\n",
    "#щоб уникнути помилки при продубльованих елементах масиву, створюємо його \n",
    "#копію щоб ним маніпулювати, а копію виведемо на екран\n",
    "\n",
    "arrcopy = arr.copy()\n",
    "\n",
    "#знаходимо останній додатній елемент масиву, перебираючи індекси\n",
    "\n",
    "print('arr =', arr)\n",
    "\n",
    "for j in range(0, n):\n",
    "    if arr[k] > 0:\n",
    "        l = arr.index(arr[k])\n",
    "        arr[k] = -1\n",
    "    k += 1\n",
    "    \"\"\" print('k =', k)\n",
    "    print('l =', l) \"\"\"\n",
    "\n",
    "#знаходимо суму\n",
    "\n",
    "for p in range(0, l+1):\n",
    "    a = arrcopy[p]\n",
    "    sum += a\n",
    "    \"\"\" print('sum=', sum) \"\"\"\n",
    "    \n",
    "\n",
    "print('Cума всiх елементів, розміщених до останнього додатного елемента \\\n",
    "включно =', sum)\n"
   ]
  },
  {
   "cell_type": "code",
   "execution_count": 1,
   "metadata": {},
   "outputs": [
    {
     "name": "stdout",
     "output_type": "stream",
     "text": [
      "\n",
      "   5    6   -9    1  -10 \n",
      "  -5    7    9   -5   -5 \n",
      "  -2   -1   10    1   -8 \n",
      "  -4    9    6    6   -3 \n",
      "\n",
      " Добуток від'ємних елементів другого рядка - -125\n",
      "Кількість елементів в другому стовпчику, які не кратні 5 - 4 \n",
      "\n"
     ]
    }
   ],
   "source": [
    "#7\n",
    "import random as ra\n",
    "a = int(input('Введіть a, кількість стовбців\\n'))\n",
    "b = int(input('Введіть b, кількість рядків\\n'))\n",
    "\n",
    "if a > 0 and b > 0:\n",
    "    mat = [[ra.randint(-10, 10) for y in range(a)] for x in range(b)]\n",
    "\n",
    "    #var1 - no format\n",
    "\n",
    "    \"\"\" for i in range(len(mat)):         \n",
    "        for j in range(len(mat[i])):  \n",
    "            print(mat[i][j], end = ' ')\n",
    "        print()  \"\"\" \n",
    "\n",
    "    #var2 - format\n",
    "\n",
    "    print()\n",
    "    for row in mat:\n",
    "        for x in row:\n",
    "            print(\"%4d\" %(x), end = \" \")\n",
    "        print()   \n",
    "\n",
    "    #part1 - добуток від‘ємних елементів другого рядка\n",
    "    \n",
    "    dob = 1\n",
    "    k = 0\n",
    "\n",
    "    for l in range(0, a):\n",
    "        m = mat[1][k]   #знаходимо другий рядок і перебираємо елементи\n",
    "        k += 1\n",
    "        if m < 0:\n",
    "            dob *= m\n",
    "            \"\"\" print('m =', m)\n",
    "            print('dob{} ='.format(k),dob) \"\"\"\n",
    "    if dob == 1:\n",
    "        print('\\n', 'Другий рядок не має від\\'ємних елементів')                \n",
    "    else:\n",
    "        print('\\n', 'Добуток від\\'ємних елементів другого рядка -', dob)\n",
    "\n",
    "    #part2 - кількість елементів в другому стовпчику, які не кратні 5\n",
    "\n",
    "    k = 0\n",
    "    count = 0\n",
    "\n",
    "    for l in range(0, b):\n",
    "        m = mat[k][1]   #знаходимо другий стовбець і перебираємо елементи\n",
    "        k += 1\n",
    "        if m % 5 != 0:\n",
    "            count += 1\n",
    "\n",
    "    print('Кількість елементів в другому стовпчику, які не кратні 5 -', \\\n",
    "    count, '\\n')\n",
    "else:\n",
    "    print('Ви ввели недопустиме значення розмірності матриці!')"
   ]
  }
 ],
 "metadata": {
  "kernelspec": {
   "display_name": "Python 3.10.7 64-bit",
   "language": "python",
   "name": "python3"
  },
  "language_info": {
   "codemirror_mode": {
    "name": "ipython",
    "version": 3
   },
   "file_extension": ".py",
   "mimetype": "text/x-python",
   "name": "python",
   "nbconvert_exporter": "python",
   "pygments_lexer": "ipython3",
   "version": "3.10.7"
  },
  "orig_nbformat": 4,
  "vscode": {
   "interpreter": {
    "hash": "664ecf36781fcceb43a5e96151f7bb93442829824314f9dae0f131bdf2b90c2f"
   }
  }
 },
 "nbformat": 4,
 "nbformat_minor": 2
}
