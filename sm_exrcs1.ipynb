{
 "cells": [
  {
   "cell_type": "code",
   "execution_count": 1,
   "id": "b88c4585",
   "metadata": {},
   "outputs": [],
   "source": [
    "# Задано два слова. Скласти програму, яка визначає і виводить ті літери\n",
    "# слів, які зустрічаються в обох словах тільки один раз. Наприклад, якщо задано\n",
    "# слова «процесор» та «інформація», то відповідь має вигляд: п е ф м а я."
   ]
  },
  {
   "cell_type": "code",
   "execution_count": 2,
   "id": "72f83642",
   "metadata": {},
   "outputs": [
    {
     "name": "stdout",
     "output_type": "stream",
     "text": [
      "п е с н ф м а я "
     ]
    }
   ],
   "source": [
    "#7.1\n",
    "\n",
    "def my_function(my_list):\n",
    "    count = 0\n",
    "    yes = 0\n",
    "    for i in range(len(my_list)):\n",
    "        a = my_list.count(my_list[count])\n",
    "        if a >= 2:\n",
    "            b = my_list[count]\n",
    "            my_list.pop(count)\n",
    "            count -= 1\n",
    "            yes = 1\n",
    "        if yes == 1:\n",
    "            try:\n",
    "                my_list.pop(my_list.index(b))\n",
    "                count -= 1\n",
    "            except ValueError:\n",
    "                pass\n",
    "        count += 1\n",
    "\n",
    "#inp = input('Уведіть два слова через пробіл:\\n').split()\n",
    "inp = 'Процесор інформація'\n",
    "inp = inp.split()\n",
    "\n",
    "res = list(list(inp[0].lower())+list(inp[1].lower()))\n",
    "        \n",
    "my_function(res)\n",
    "\n",
    "for j in range(len(res)):\n",
    "    print(res[j], end=' ')"
   ]
  },
  {
   "cell_type": "code",
   "execution_count": null,
   "id": "cc5d13a7",
   "metadata": {},
   "outputs": [],
   "source": [
    "# Скласти програму, яка формує і виводить на екран множину цілих \n",
    "# чисел в порядку зростання з діапазону 1..1000, які можна подати у вигляді \n",
    "# n^2+m^2, де n, m ≥0."
   ]
  },
  {
   "cell_type": "code",
   "execution_count": 10,
   "id": "fe43acf4",
   "metadata": {},
   "outputs": [
    {
     "name": "stdout",
     "output_type": "stream",
     "text": [
      "[1, 2, 4, 5, 8, 9, 10, 13, 16, 17, 18, 20, 25, 26, 29, 32, 34, 36, 37, 40, 41, 45, 49, 50, 52, 53, 58, 61, 64, 65, 68, 72, 73, 74, 80, 81, 82, 85, 89, 90, 97, 98, 100, 101, 104, 106, 109, 113, 116, 117, 121, 122, 125, 128, 130, 136, 137, 144, 145, 146, 148, 149, 153, 157, 160, 162, 164, 169, 170, 173, 178, 180, 181, 185, 193, 194, 196, 197, 200, 202, 205, 208, 212, 218, 221, 225, 226, 229, 232, 233, 234, 241, 242, 244, 245, 250, 256, 257, 260, 261, 265, 269, 272, 274, 277, 281, 288, 289, 290, 292, 293, 296, 298, 305, 306, 313, 314, 317, 320, 324, 325, 328, 333, 337, 338, 340, 346, 349, 353, 356, 360, 361, 362, 365, 369, 370, 373, 377, 386, 388, 389, 392, 394, 397, 400, 401, 404, 405, 409, 410, 416, 421, 424, 425, 433, 436, 441, 442, 445, 449, 450, 452, 457, 458, 461, 464, 466, 468, 477, 481, 482, 484, 485, 488, 490, 493, 500, 505, 509, 512, 514, 520, 521, 522, 530, 533, 541, 544, 545, 548, 549, 557, 562, 565, 569, 578, 580, 584, 585, 586, 596, 605, 610, 613, 617, 625, 628, 637, 648, 650, 653, 656, 666, 680, 685, 689, 697, 709, 722, 724, 730, 740, 761, 765, 773, 800, 802, 808, 841, 845, 882, 884, 925, 968]\n"
     ]
    }
   ],
   "source": [
    "#7.2\n",
    "\n",
    "a={k**2+i**2 for i in range(0,23) for k in range(1,23)} ####\n",
    "b=list(a)\n",
    "b.sort()\n",
    "print(b)"
   ]
  },
  {
   "cell_type": "code",
   "execution_count": null,
   "id": "ed36d677",
   "metadata": {},
   "outputs": [],
   "source": []
  }
 ],
 "metadata": {
  "kernelspec": {
   "display_name": "Python 3 (ipykernel)",
   "language": "python",
   "name": "python3"
  },
  "language_info": {
   "codemirror_mode": {
    "name": "ipython",
    "version": 3
   },
   "file_extension": ".py",
   "mimetype": "text/x-python",
   "name": "python",
   "nbconvert_exporter": "python",
   "pygments_lexer": "ipython3",
   "version": "3.9.7"
  }
 },
 "nbformat": 4,
 "nbformat_minor": 5
}
