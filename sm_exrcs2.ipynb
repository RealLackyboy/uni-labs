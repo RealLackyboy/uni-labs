{
 "cells": [
  {
   "cell_type": "markdown",
   "id": "45733a62",
   "metadata": {},
   "source": [
    " 7. Задано дані про n=10 учнів класу: прізвище, ім‘я, по батькові, дата\n",
    "народження (рік, номер місяця і число). Скласти програму, яка визначає, чи є в \n",
    "класі учні, у яких сьогодні день народження, і якщо так, то вивести їх ім'я та \n",
    "прізвище"
   ]
  },
  {
   "cell_type": "code",
   "execution_count": 36,
   "id": "c0a9fb9e",
   "metadata": {},
   "outputs": [
    {
     "name": "stdout",
     "output_type": "stream",
     "text": [
      "Введіть сьогоднішню дату в форматі РР.ММ.ДД, наприклад 2000.12.01\n",
      "2021.06.22\n",
      "Вітаємо Вас, Броваренко Катерина Сергіївна, з Днем Народження!\n",
      "Вітаємо Вас, Кравчук Єлизавета Євгенівна, з Днем Народження!\n"
     ]
    }
   ],
   "source": [
    "# 7 \n",
    "# https://uk.namefake.com/ukrainian-ukraine/random/a05d62c96350b2efd0a2d36d42226e8b\n",
    "#                                           РР.ММ.ДД\n",
    "a0 = ('Васильєв Болеслав Петрович',    1992,  '5',  '4')\n",
    "a1 = ('Петренко Юлія Йосипівна',       1971,  '1', '21')\n",
    "a2 = ('Таращук Людмила Олександрівна', 1987,  '8', '16')\n",
    "a3 = ('Гнатюк Іван Йосипович',         1967,  '1', '22')\n",
    "a4 = ('Броваренко Катерина Сергіївна', 1968,  '6', '22')\n",
    "a5 = ('Васильчук Михайло Борисович',   1971,  '9', '27')\n",
    "a6 = ('Романченко Євген Тарасович',    1962,  '5', '17')\n",
    "a7 = ('Дмитренко Юлія Олександрівна',  1970, '11', '17')\n",
    "a8 = ('Антоненко Данил Сергійович',    1992, '12', '24')\n",
    "a9 = ('Кравчук Єлизавета Євгенівна',   1981,  '6', '22')\n",
    "\n",
    "voc = [a0, a1, a2, a3, a4, a5, a6, a7, a8, a9]\n",
    "\n",
    "today = list(input('Введіть сьогоднішню дату в форматі РР.ММ.ДД, наприклад 2000.12.01\\n').split(\".\"))\n",
    "\n",
    "today.reverse()\n",
    "today.pop()\n",
    "today.reverse()\n",
    "\n",
    "a = ' '.join(today)\n",
    "\n",
    "today = today[0] + today[1]\n",
    "\n",
    "\n",
    "\n",
    "a = a.replace('01', '1')\n",
    "a = a.replace('02', '2')\n",
    "a = a.replace('03', '3')\n",
    "a = a.replace('04', '4')\n",
    "a = a.replace('05', '5')\n",
    "a = a.replace('06', '6')\n",
    "a = a.replace('07', '7')\n",
    "a = a.replace('08', '8')\n",
    "a = a.replace('09', '9')\n",
    "a = a.replace(' ', '')\n",
    "\n",
    "\n",
    "for i in range(len(voc)):\n",
    "    b = voc[i][2] + voc[i][3]\n",
    "    if b == a:\n",
    "        print('Вітаємо Вас, {}, з Днем Народження!'.format(voc[i][0]))\n",
    "\n",
    "# print('a=', a)\n",
    "# print('b=', b)\n",
    "# print('res=', res)\n",
    "# print('today=', today)"
   ]
  }
 ],
 "metadata": {
  "kernelspec": {
   "display_name": "Python 3 (ipykernel)",
   "language": "python",
   "name": "python3"
  },
  "language_info": {
   "codemirror_mode": {
    "name": "ipython",
    "version": 3
   },
   "file_extension": ".py",
   "mimetype": "text/x-python",
   "name": "python",
   "nbconvert_exporter": "python",
   "pygments_lexer": "ipython3",
   "version": "3.9.7"
  }
 },
 "nbformat": 4,
 "nbformat_minor": 5
}
