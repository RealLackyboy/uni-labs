{
 "cells": [
  {
   "cell_type": "code",
   "execution_count": 48,
   "id": "91172a08",
   "metadata": {},
   "outputs": [
    {
     "name": "stdout",
     "output_type": "stream",
     "text": [
      "Tomato is growing red coloured middle plant\n",
      "Vegstables are growing different coloured different sized plants\n"
     ]
    }
   ],
   "source": [
    "# 7 \n",
    "# Овоч\n",
    "#створення без допомоги __init__\n",
    "class Veg:\n",
    "    getting = 'growing'\n",
    "    colour = 'different'\n",
    "    size = 'different'\n",
    "    \n",
    "# задання об'єкту класу\n",
    "tomato = Veg(); tomato.colour = 'red'; tomato.size = 'middle'\n",
    "\n",
    "# виведення значень\n",
    "print('Tomato is', tomato.getting, tomato.colour, 'coloured', tomato.size, 'plant')\n",
    "print('Vegstables are', Veg.getting, Veg.colour, 'coloured', Veg.size, 'sized plants')"
   ]
  },
  {
   "cell_type": "code",
   "execution_count": 50,
   "id": "bb035858",
   "metadata": {},
   "outputs": [
    {
     "name": "stdout",
     "output_type": "stream",
     "text": [
      "This vegetable is growing red coloured middle sized plant\n",
      "This vegetable is growing different coloured different sized plant\n"
     ]
    }
   ],
   "source": [
    "#створення за допомогою __init__\n",
    "class Veg:\n",
    "    def __init__(self, getting = 'growing', colour = 'different', size = 'different'):\n",
    "        self.getting = getting\n",
    "        self.colour = colour\n",
    "        self.size = size\n",
    "# друк інформації про об'єкт\n",
    "    def print_info(self):\n",
    "        print('This vegetable is', self.getting, self.colour, 'coloured', self.size, 'sized plant')\n",
    "        \n",
    "# створення об'єктів класу\n",
    "tomato = Veg('growing', 'red', 'middle')\n",
    "cucumber = Veg()\n",
    "\n",
    "# виводимо інформацію про об'єкти\n",
    "tomato.print_info()\n",
    "cucumber.print_info()\n"
   ]
  },
  {
   "cell_type": "code",
   "execution_count": null,
   "id": "567ee2c3",
   "metadata": {},
   "outputs": [],
   "source": []
  }
 ],
 "metadata": {
  "kernelspec": {
   "display_name": "Python 3 (ipykernel)",
   "language": "python",
   "name": "python3"
  },
  "language_info": {
   "codemirror_mode": {
    "name": "ipython",
    "version": 3
   },
   "file_extension": ".py",
   "mimetype": "text/x-python",
   "name": "python",
   "nbconvert_exporter": "python",
   "pygments_lexer": "ipython3",
   "version": "3.9.7"
  }
 },
 "nbformat": 4,
 "nbformat_minor": 5
}
